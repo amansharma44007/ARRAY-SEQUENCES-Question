{
 "cells": [
  {
   "cell_type": "markdown",
   "metadata": {},
   "source": [
    "# Sting Compression"
   ]
  },
  {
   "cell_type": "code",
   "execution_count": 8,
   "metadata": {
    "scrolled": true
   },
   "outputs": [
    {
     "name": "stdout",
     "output_type": "stream",
     "text": [
      "A2B2C2\n"
     ]
    }
   ],
   "source": [
    "def StringC(sen):\n",
    "    if len(sen)==0:\n",
    "        return \"\"\n",
    "    if len(sen)==1:\n",
    "        return sen[i]+\"1\"\n",
    "    last=sen[0]\n",
    "    i=1\n",
    "    r=\"\"\n",
    "    count=1\n",
    "    while i<len(sen):\n",
    "        if sen[i]==sen[i-1]:\n",
    "            count+=1\n",
    "        else:\n",
    "            r=r+sen[i-1]+str(count)\n",
    "            count=1\n",
    "        i+=1\n",
    "    r=r+sen[i-1]+str(count)\n",
    "    return r\n",
    "aman=StringC(\"AABBCC\")\n",
    "print(aman)"
   ]
  }
 ],
 "metadata": {
  "kernelspec": {
   "display_name": "Python 3",
   "language": "python",
   "name": "python3"
  },
  "language_info": {
   "codemirror_mode": {
    "name": "ipython",
    "version": 3
   },
   "file_extension": ".py",
   "mimetype": "text/x-python",
   "name": "python",
   "nbconvert_exporter": "python",
   "pygments_lexer": "ipython3",
   "version": "3.7.3"
  }
 },
 "nbformat": 4,
 "nbformat_minor": 2
}
