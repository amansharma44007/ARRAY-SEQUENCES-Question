{
 "cells": [
  {
   "cell_type": "code",
   "execution_count": 17,
   "metadata": {},
   "outputs": [
    {
     "name": "stdout",
     "output_type": "stream",
     "text": [
      "Enter number of elements : 4\n",
      "1\n",
      "2\n",
      "3\n",
      "4\n",
      "Enter array sum: 3\n",
      "1 2\n"
     ]
    }
   ],
   "source": [
    "# creating an empty list \n",
    "lst = [] \n",
    "\n",
    "# number of elemetns as input \n",
    "n = int(input(\"Enter number of elements : \")) \n",
    "\n",
    "# iterating till the range \n",
    "for i in range(0, n): \n",
    "    ele = int(input()) \n",
    "\n",
    "    lst.append(ele) # adding the element \n",
    "nn=int(input(\"Enter array sum: \"))\n",
    "for i in range(0,len(lst)):\n",
    "    for j in range(i+1,len(lst)):\n",
    "        if lst[i]+lst[j]==nn:\n",
    "            print(lst[i],lst[j])\n",
    "            "
   ]
  },
  {
   "cell_type": "markdown",
   "metadata": {},
   "source": [
    "The algorithm is really simple once we figure out using a set. The complexity is O(N) because we do a single linear scan of the array, and for each element we just check whether the corresponding number to form a pair is in the set or add the current element to the set. Insert and find operations of a set are both average O(1), so the algorithm is O(N) in total."
   ]
  },
  {
   "cell_type": "code",
   "execution_count": 36,
   "metadata": {},
   "outputs": [
    {
     "name": "stdout",
     "output_type": "stream",
     "text": [
      "Enter number of elements : 4\n",
      "1\n",
      "2\n",
      "3\n",
      "4\n",
      "Enter array sum: 7\n",
      "{(3, 4)}\n"
     ]
    }
   ],
   "source": [
    "import sys\n",
    "lst = [] \n",
    "seen=set()\n",
    "output=set()\n",
    "# number of elemetns as input \n",
    "n = int(input(\"Enter number of elements : \")) \n",
    "\n",
    "# iterating till the range \n",
    "for i in range(0, n): \n",
    "    ele = int(input()) t\n",
    "    lst.append(ele) # adding the element\n",
    "if len(lst)<2:\n",
    "    sys.exit(\"List should be greater than 2\")\n",
    "nn=int(input(\"Enter array sum: \"))\n",
    "for num in lst:\n",
    "    target=nn-num\n",
    "    if target not in seen:\n",
    "        seen.add(num)\n",
    "    else:\n",
    "        output.add((min(num,target),max(num,target)))\n",
    "print(output)\n",
    "    "
   ]
  },
  {
   "cell_type": "code",
   "execution_count": null,
   "metadata": {},
   "outputs": [],
   "source": []
  }
 ],
 "metadata": {
  "kernelspec": {
   "display_name": "Python 3",
   "language": "python",
   "name": "python3"
  },
  "language_info": {
   "codemirror_mode": {
    "name": "ipython",
    "version": 3
   },
   "file_extension": ".py",
   "mimetype": "text/x-python",
   "name": "python",
   "nbconvert_exporter": "python",
   "pygments_lexer": "ipython3",
   "version": "3.7.3"
  }
 },
 "nbformat": 4,
 "nbformat_minor": 2
}
