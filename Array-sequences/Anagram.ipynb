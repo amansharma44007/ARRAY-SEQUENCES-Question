{
 "cells": [
  {
   "cell_type": "markdown",
   "metadata": {},
   "source": [
    "# Anagram"
   ]
  },
  {
   "cell_type": "markdown",
   "metadata": {},
   "source": [
    "Problem\n",
    "Given two strings, check to see if they are anagrams. An anagram is when the two strings can be written using the exact same letters (so you can just rearrange the letters to get a different phrase or word).\n",
    "\n",
    "For example:\n",
    "\n",
    "\"public relations\" is an anagram of \"crap built on lies.\"\n",
    "\n",
    "\"clint eastwood\" is an anagram of \"old west action\""
   ]
  },
  {
   "cell_type": "code",
   "execution_count": 1,
   "metadata": {},
   "outputs": [
    {
     "name": "stdout",
     "output_type": "stream",
     "text": [
      "Please enter a string:aman\n",
      "Please enter a checking string:nama\n",
      "You got it\n"
     ]
    }
   ],
   "source": [
    "import string\n",
    "s=input(\"Please enter a string:\")\n",
    "aa=input(\"Please enter a checking string:\")\n",
    "s.translate({ord(c): None for c in string.whitespace})\n",
    "aa.translate({ord(c): None for c in string.whitespace})\n",
    "aaa=[]\n",
    "bb=[]\n",
    "for i in range(0,len(aa)):\n",
    "    aaa.append(aa[i])\n",
    "for i in range(0,len(s)):\n",
    "    bb.append(s[i])\n",
    "aaa.sort()\n",
    "bb.sort()\n",
    "if aaa==bb:\n",
    "    print(\"You got it\")\n",
    "else:\n",
    "    print(\"Its not try again and check your code\")"
   ]
  },
  {
   "cell_type": "markdown",
   "metadata": {},
   "source": [
    "Now the above sorting approach is simple, but is actually not optimal and in an interview setting you would probably be asked to implement a more manual solution involving just counting the number of letters in each string to test your ability to understand hash tables. Let's build out a fuller solution using counting and Python dictionaries:"
   ]
  },
  {
   "cell_type": "code",
   "execution_count": 8,
   "metadata": {},
   "outputs": [
    {
     "name": "stdout",
     "output_type": "stream",
     "text": [
      "Please enter a string:aman\n",
      "Please enter a checking string:nama\n",
      "{'a': 1}\n",
      "{'a': 1, 'm': 1}\n",
      "{'a': 2, 'm': 1}\n",
      "{'a': 2, 'm': 1, 'n': 1}\n",
      "{'a': 2, 'm': 1, 'n': 0}\n",
      "{'a': 1, 'm': 1, 'n': 0}\n",
      "{'a': 1, 'm': 0, 'n': 0}\n",
      "{'a': 0, 'm': 0, 'n': 0}\n",
      "Its a anagram\n"
     ]
    }
   ],
   "source": [
    "import string\n",
    "s1=input(\"Please enter a string:\")\n",
    "s2=input(\"Please enter a checking string:\")\n",
    "s1.translate({ord(c): None for c in string.whitespace})\n",
    "s2.translate({ord(c): None for c in string.whitespace})\n",
    "\n",
    "count={}\n",
    "for letter in s1:\n",
    "    if letter in count:\n",
    "        count[letter]+=1\n",
    "        print(count)\n",
    "    else:\n",
    "        count[letter]=1\n",
    "        print(count)\n",
    "for letter in s2:\n",
    "    if letter in count:\n",
    "        count[letter]-=1\n",
    "        print(count)\n",
    "    else:\n",
    "        count[letter]=1\n",
    "        print(count)\n",
    "a=0\n",
    "for i in count:\n",
    "    if count[i]!=0:\n",
    "        print(\"Its not try again and check your code\")\n",
    "        a=1\n",
    "        break\n",
    "if a!=1:\n",
    "    print(\"Its a anagram\")\n",
    "\n"
   ]
  },
  {
   "cell_type": "code",
   "execution_count": null,
   "metadata": {},
   "outputs": [],
   "source": []
  }
 ],
 "metadata": {
  "kernelspec": {
   "display_name": "Python 3",
   "language": "python",
   "name": "python3"
  },
  "language_info": {
   "codemirror_mode": {
    "name": "ipython",
    "version": 3
   },
   "file_extension": ".py",
   "mimetype": "text/x-python",
   "name": "python",
   "nbconvert_exporter": "python",
   "pygments_lexer": "ipython3",
   "version": "3.7.3"
  }
 },
 "nbformat": 4,
 "nbformat_minor": 2
}
