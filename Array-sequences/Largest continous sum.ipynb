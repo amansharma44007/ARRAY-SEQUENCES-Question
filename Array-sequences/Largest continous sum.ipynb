{
 "cells": [
  {
   "cell_type": "code",
   "execution_count": 12,
   "metadata": {},
   "outputs": [
    {
     "name": "stdout",
     "output_type": "stream",
     "text": [
      "The largest Continous Sum is  29\n"
     ]
    }
   ],
   "source": [
    "def largest(arr):\n",
    "    num=0\n",
    "    num1=0\n",
    "    largest=[]\n",
    "    for i in arr:\n",
    "        num+=i\n",
    "    for i in arr:\n",
    "        num1+=i\n",
    "        if num1>num:\n",
    "            largest.append(num1)\n",
    "    return max(largest)\n",
    "aman=largest([1,2,-1,3,4,10,10,-10,-1])\n",
    "print(\"The largest Continous Sum is \",aman)"
   ]
  },
  {
   "cell_type": "markdown",
   "metadata": {},
   "source": [
    "Now solving the laragest continous with kanadane algorithm-o(n)"
   ]
  },
  {
   "cell_type": "code",
   "execution_count": 35,
   "metadata": {},
   "outputs": [
    {
     "name": "stdout",
     "output_type": "stream",
     "text": [
      "(7, 2, 6)\n"
     ]
    }
   ],
   "source": [
    "from sys import maxsize\n",
    "def kadane(arr):\n",
    "    max_end=0\n",
    "    start=0;s=0;end=0;\n",
    "    max_so_far = -maxsize -1\n",
    "    for i in range(0,len(arr)):\n",
    "        max_end=max_end+arr[i]\n",
    "        if max_so_far<max_end:\n",
    "                max_so_far=max_end\n",
    "                start=s\n",
    "                end=i\n",
    "        if max_end<0:\n",
    "                max_end=0\n",
    "                s=i+1\n",
    "    return max_so_far,start,end\n",
    "aman=kadane([-2, -3, 4, -1, -2, 1, 5, -3])\n",
    "print(aman)"
   ]
  },
  {
   "cell_type": "code",
   "execution_count": null,
   "metadata": {},
   "outputs": [],
   "source": []
  }
 ],
 "metadata": {
  "kernelspec": {
   "display_name": "Python 3",
   "language": "python",
   "name": "python3"
  },
  "language_info": {
   "codemirror_mode": {
    "name": "ipython",
    "version": 3
   },
   "file_extension": ".py",
   "mimetype": "text/x-python",
   "name": "python",
   "nbconvert_exporter": "python",
   "pygments_lexer": "ipython3",
   "version": "3.7.3"
  }
 },
 "nbformat": 4,
 "nbformat_minor": 2
}
