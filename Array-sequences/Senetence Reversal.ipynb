{
 "cells": [
  {
   "cell_type": "markdown",
   "metadata": {},
   "source": [
    "# Sentence Reversal"
   ]
  },
  {
   "cell_type": "code",
   "execution_count": 12,
   "metadata": {},
   "outputs": [
    {
     "name": "stdout",
     "output_type": "stream",
     "text": [
      "Stark is Aman\n"
     ]
    }
   ],
   "source": [
    "def Senetence(sen):\n",
    "    lst=sen.split(\" \")\n",
    "    lst.reverse()\n",
    "    lst1=\" \".join(lst)\n",
    "    return lst1\n",
    "aman=Senetence(\"Aman is Stark\")\n",
    "print(aman)"
   ]
  },
  {
   "cell_type": "markdown",
   "metadata": {},
   "source": [
    "\n",
    "While these are valid solutions, in an interview setting you'll have to work out the basic algorithm that is used. In this case what we want to do is loop over the text and extract words form the string ourselves. Then we can push the words to a \"stack\" and in the end opo them all to reverse. Let's see what this actually looks like:"
   ]
  },
  {
   "cell_type": "code",
   "execution_count": 18,
   "metadata": {},
   "outputs": [
    {
     "name": "stdout",
     "output_type": "stream",
     "text": [
      "Stark is Aman\n"
     ]
    }
   ],
   "source": [
    "def sentence(sen):\n",
    "    word=[]\n",
    "    i=0\n",
    "    space=[\" \"]\n",
    "    while i<len(sen):\n",
    "        if sen[i] not in space:\n",
    "            word_start=i\n",
    "            while i<len(sen) and sen[i] not in space:\n",
    "                i+=1\n",
    "            word.append(sen[word_start:i])\n",
    "        i+=1\n",
    "    word.reverse()\n",
    "    return \" \".join(word)\n",
    "aman=sentence(\"Aman is Stark\")\n",
    "print(aman)"
   ]
  }
 ],
 "metadata": {
  "kernelspec": {
   "display_name": "Python 3",
   "language": "python",
   "name": "python3"
  },
  "language_info": {
   "codemirror_mode": {
    "name": "ipython",
    "version": 3
   },
   "file_extension": ".py",
   "mimetype": "text/x-python",
   "name": "python",
   "nbconvert_exporter": "python",
   "pygments_lexer": "ipython3",
   "version": "3.7.3"
  }
 },
 "nbformat": 4,
 "nbformat_minor": 2
}
